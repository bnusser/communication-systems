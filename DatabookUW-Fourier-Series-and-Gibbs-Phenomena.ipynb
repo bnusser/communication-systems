{
 "cells": [
  {
   "cell_type": "markdown",
   "id": "94373136",
   "metadata": {},
   "source": [
    "### Fourier Series Approximation and the Gibbs Phenomenon\n",
    "\n",
    "https://www.youtube.com/watch?v=sSvj1nCC6_o&list=PLMrJAkhIeNNT_Xh3Oy0Y4LTj0Oxo8GqsC\n",
    "\n",
    "This notebook demonstrates how a **square pulse** can be approximated by a truncated **Fourier series**.\n",
    "\n",
    "---\n",
    "\n",
    "#### 1. Definition of the Fourier Series\n",
    "\n",
    "For a periodic function $f(x)$ with period $L$, the Fourier series expansion is:\n",
    "\n",
    "$$\n",
    "f(x) \\;\\approx\\; \\frac{A_0}{2} \n",
    "+ \\sum_{k=1}^{r} \\Bigg[ A_k \\cos\\!\\left(\\tfrac{2\\pi k}{L}x\\right) \n",
    "+ B_k \\sin\\!\\left(\\tfrac{2\\pi k}{L}x\\right) \\Bigg]\n",
    "$$\n",
    "\n",
    "where the coefficients are defined by:\n",
    "\n",
    "$$\n",
    "A_0 = \\frac{2}{L} \\int_0^L f(x)\\,dx\n",
    "$$\n",
    "\n",
    "$$\n",
    "A_k = \\frac{2}{L} \\int_0^L f(x)\\cos\\!\\left(\\tfrac{2\\pi k}{L}x\\right) dx,\n",
    "\\quad\n",
    "B_k = \\frac{2}{L} \\int_0^L f(x)\\sin\\!\\left(\\tfrac{2\\pi k}{L}x\\right) dx\n",
    "$$\n",
    "\n",
    "---\n",
    "\n",
    "#### 2. Implementation in Code\n",
    "\n",
    "- **Domain setup:**  \n",
    "  The domain spans $0 \\leq x \\leq 2\\pi$ with spacing $\\Delta x = 0.01$.  \n",
    "  A square pulse is defined such that $f(x) = 1$ for the middle half of the interval, and $f(x) = 0$ elsewhere.  \n",
    "\n",
    "- **Numerical approximation:**  \n",
    "  The integrals above are approximated with discrete sums over the sampled domain.\n",
    "\n",
    "- **Series reconstruction:**  \n",
    "  The Fourier approximation is built by summing harmonics up to $r = 100$.\n",
    "\n",
    "---\n",
    "\n",
    "#### 3. Gibbs Phenomenon\n",
    "\n",
    "When approximating a discontinuous function (like the square pulse), the Fourier series exhibits **overshoot and oscillations near the discontinuities**.  \n",
    "\n",
    "- The overshoot does **not disappear** as $r \\to \\infty$.  \n",
    "- Instead, it approaches a limiting value of about **9% of the jump amplitude**.  \n",
    "- As more terms are added, the oscillations become confined to narrower regions around the discontinuities.  \n",
    "\n",
    "This effect is known as the **Gibbs Phenomenon** and is fundamental to Fourier analysis of discontinuous signals.\n",
    "\n",
    "---\n"
   ]
  },
  {
   "cell_type": "code",
   "execution_count": null,
   "id": "d3c7a4bb",
   "metadata": {},
   "outputs": [
    {
     "name": "stdout",
     "output_type": "stream",
     "text": [
      "r: 100\n"
     ]
    },
    {
     "data": {
      "text/plain": [
       "[<matplotlib.lines.Line2D at 0x1f194bbda90>]"
      ]
     },
     "execution_count": 63,
     "metadata": {},
     "output_type": "execute_result"
    }
   ],
   "source": [
    "import numpy as np\n",
    "import matplotlib.pyplot as plt\n",
    "\n",
    "plt.rcParams['figure.figsize'] = [8, 8]\n",
    "plt.rcParams.update({'font.size': 18})\n",
    "\n",
    "# Define domain\n",
    "dx = 0.01 \n",
    "L = 2 * np.pi\n",
    "x = np.arange(0, L + dx, dx) # domain is -pi to pi, with dx = 0.001\n",
    "n = len(x)\n",
    "nquart = int(np.floor(n/4))  # quarter of the length of the array\n",
    "\n",
    "f = np.zeros_like(x)\n",
    "f[nquart:3*nquart] = 1  # square pulse\n",
    "\n",
    "A0 = np.sum(f * np.ones_like(x)) * dx * 2 / L # Compute DC term\n",
    "fFS = A0 / 2 * np.ones_like(f)  # start with DC term\n",
    "\n",
    "r = 100\n",
    "# r = int(L/(2*dx)) - 1 # for almost perfect approximation, choose r below Nyquist\n",
    "\n",
    "print(f\"r: {r}\")\n",
    "\n",
    "for k in range(1, r + 1):\n",
    "    Ak = np.sum(f * np.cos(2 * np.pi * k * x / L)) * dx * 2 / L\n",
    "    Bk = np.sum(f * np.sin(2 * np.pi * k * x / L)) * dx * 2 / L\n",
    "    fFS = fFS + Ak * np.cos(2 * np.pi * k * x / L) + Bk * np.sin(2 * np.pi * k * x / L)\n",
    "\n",
    "plt.plot(x, f, color='k', label='Original function', linewidth=2)\n",
    "plt.plot(x, fFS, color='#add8e6ff', label='Fourier series approximation', linewidth=1.5)    "
   ]
  }
 ],
 "metadata": {
  "kernelspec": {
   "display_name": "venv",
   "language": "python",
   "name": "python3"
  },
  "language_info": {
   "codemirror_mode": {
    "name": "ipython",
    "version": 3
   },
   "file_extension": ".py",
   "mimetype": "text/x-python",
   "name": "python",
   "nbconvert_exporter": "python",
   "pygments_lexer": "ipython3",
   "version": "3.13.7"
  }
 },
 "nbformat": 4,
 "nbformat_minor": 5
}
